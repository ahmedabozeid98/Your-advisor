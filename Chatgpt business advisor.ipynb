{
 "cells": [
  {
   "cell_type": "code",
   "execution_count": 3,
   "id": "941e28dc",
   "metadata": {},
   "outputs": [
    {
     "name": "stdout",
     "output_type": "stream",
     "text": [
      "Requirement already satisfied: openai in c:\\users\\ahmed.ismail\\anaconda3\\lib\\site-packages (0.27.2)\n",
      "Requirement already satisfied: tqdm in c:\\users\\ahmed.ismail\\anaconda3\\lib\\site-packages (from openai) (4.64.0)\n",
      "Requirement already satisfied: aiohttp in c:\\users\\ahmed.ismail\\anaconda3\\lib\\site-packages (from openai) (3.8.1)\n",
      "Requirement already satisfied: requests>=2.20 in c:\\users\\ahmed.ismail\\anaconda3\\lib\\site-packages (from openai) (2.27.1)\n",
      "Requirement already satisfied: idna<4,>=2.5 in c:\\users\\ahmed.ismail\\anaconda3\\lib\\site-packages (from requests>=2.20->openai) (3.3)\n",
      "Requirement already satisfied: certifi>=2017.4.17 in c:\\users\\ahmed.ismail\\anaconda3\\lib\\site-packages (from requests>=2.20->openai) (2021.10.8)\n",
      "Requirement already satisfied: urllib3<1.27,>=1.21.1 in c:\\users\\ahmed.ismail\\anaconda3\\lib\\site-packages (from requests>=2.20->openai) (1.26.9)\n",
      "Requirement already satisfied: charset-normalizer~=2.0.0 in c:\\users\\ahmed.ismail\\anaconda3\\lib\\site-packages (from requests>=2.20->openai) (2.0.4)\n",
      "Requirement already satisfied: yarl<2.0,>=1.0 in c:\\users\\ahmed.ismail\\anaconda3\\lib\\site-packages (from aiohttp->openai) (1.6.3)\n",
      "Requirement already satisfied: frozenlist>=1.1.1 in c:\\users\\ahmed.ismail\\anaconda3\\lib\\site-packages (from aiohttp->openai) (1.2.0)\n",
      "Requirement already satisfied: async-timeout<5.0,>=4.0.0a3 in c:\\users\\ahmed.ismail\\anaconda3\\lib\\site-packages (from aiohttp->openai) (4.0.1)\n",
      "Requirement already satisfied: aiosignal>=1.1.2 in c:\\users\\ahmed.ismail\\anaconda3\\lib\\site-packages (from aiohttp->openai) (1.2.0)\n",
      "Requirement already satisfied: multidict<7.0,>=4.5 in c:\\users\\ahmed.ismail\\anaconda3\\lib\\site-packages (from aiohttp->openai) (5.1.0)\n",
      "Requirement already satisfied: attrs>=17.3.0 in c:\\users\\ahmed.ismail\\anaconda3\\lib\\site-packages (from aiohttp->openai) (21.4.0)\n",
      "Requirement already satisfied: typing-extensions>=3.6.5 in c:\\users\\ahmed.ismail\\anaconda3\\lib\\site-packages (from async-timeout<5.0,>=4.0.0a3->aiohttp->openai) (4.1.1)\n",
      "Requirement already satisfied: colorama in c:\\users\\ahmed.ismail\\anaconda3\\lib\\site-packages (from tqdm->openai) (0.4.4)\n"
     ]
    }
   ],
   "source": [
    "!pip install openai\n",
    "import openai\n",
    "\n"
   ]
  },
  {
   "cell_type": "code",
   "execution_count": 4,
   "id": "50f76b24",
   "metadata": {},
   "outputs": [],
   "source": [
    "# load and set our key\n",
    "openai.api_key = open(\"key.txt\", \"r\").read().strip(\"\\n\")"
   ]
  },
  {
   "cell_type": "code",
   "execution_count": 13,
   "id": "4918e28a",
   "metadata": {},
   "outputs": [],
   "source": [
    "completion = openai.ChatCompletion.create(\n",
    "  model=\"gpt-3.5-turbo\", # this is \"ChatGPT\" $0.002 per 1k tokens\n",
    "  messages=[{\"role\": \"user\", \"content\": \"how to start your dropshipping business without money??\"}]\n",
    ")\n"
   ]
  },
  {
   "cell_type": "code",
   "execution_count": 14,
   "id": "84e1c71b",
   "metadata": {},
   "outputs": [
    {
     "name": "stdout",
     "output_type": "stream",
     "text": [
      "{\n",
      "  \"choices\": [\n",
      "    {\n",
      "      \"finish_reason\": \"stop\",\n",
      "      \"index\": 0,\n",
      "      \"message\": {\n",
      "        \"content\": \"\\n\\n\\n1. Research thoroughly: Conduct thorough research about the niche or products you want to sell. Look for products with less market competition and higher demand. \\n\\n2. Use free platforms: Utilize free ecommerce platforms such as Shopify, WooCommerce, and BigCartel to set up your online store. \\n\\n3. Build partnerships: Approach manufacturers or suppliers and negotiate partnerships that allow you to sell their products without upfront costs. You can agree to pay them after you make sales through your store. \\n\\n4. Promote your business: Use social media platforms, create a blog or content, and outreach to influencers to promote your products. \\n\\n5. Optimize your store: Create a responsive and user-friendly store, tweak product descriptions and images, and optimize the checkout process to increase conversion rates. \\n\\n6. Implement dropshipping: Use dropshipping tools such as Automizely Dropshipping to automate order fulfillment and inventory management, without having to handle the physical products or shipping them. \\n\\n7. Utilize crowdfunding: Utilize crowdfunding platforms such as Kickstarter, Indiegogo, or GoFundMe to raise funds and get early adopters for your products. \\n\\n8. Offer cross-selling and upsells: Implement cross-selling and upsells strategies to increase revenue from existing customers. \\n\\n9. Scale gradually: As your business grows, reinvest profits into your store, buy inventory in bulk, and partner with more suppliers. \\n\\n10. Stay committed: Consistency and perseverance are key for success in dropshipping business. Stay committed, track your progress, and adapt as needed.\",\n",
      "        \"role\": \"assistant\"\n",
      "      }\n",
      "    }\n",
      "  ],\n",
      "  \"created\": 1678800626,\n",
      "  \"id\": \"chatcmpl-6tz1OLQJcfFabh78cTxNdxNrXmaL3\",\n",
      "  \"model\": \"gpt-3.5-turbo-0301\",\n",
      "  \"object\": \"chat.completion\",\n",
      "  \"usage\": {\n",
      "    \"completion_tokens\": 314,\n",
      "    \"prompt_tokens\": 17,\n",
      "    \"total_tokens\": 331\n",
      "  }\n",
      "}\n"
     ]
    }
   ],
   "source": [
    "print(completion)\n"
   ]
  },
  {
   "cell_type": "code",
   "execution_count": 15,
   "id": "73fbc417",
   "metadata": {},
   "outputs": [
    {
     "name": "stdout",
     "output_type": "stream",
     "text": [
      "\n",
      "\n",
      "\n",
      "1. Research thoroughly: Conduct thorough research about the niche or products you want to sell. Look for products with less market competition and higher demand. \n",
      "\n",
      "2. Use free platforms: Utilize free ecommerce platforms such as Shopify, WooCommerce, and BigCartel to set up your online store. \n",
      "\n",
      "3. Build partnerships: Approach manufacturers or suppliers and negotiate partnerships that allow you to sell their products without upfront costs. You can agree to pay them after you make sales through your store. \n",
      "\n",
      "4. Promote your business: Use social media platforms, create a blog or content, and outreach to influencers to promote your products. \n",
      "\n",
      "5. Optimize your store: Create a responsive and user-friendly store, tweak product descriptions and images, and optimize the checkout process to increase conversion rates. \n",
      "\n",
      "6. Implement dropshipping: Use dropshipping tools such as Automizely Dropshipping to automate order fulfillment and inventory management, without having to handle the physical products or shipping them. \n",
      "\n",
      "7. Utilize crowdfunding: Utilize crowdfunding platforms such as Kickstarter, Indiegogo, or GoFundMe to raise funds and get early adopters for your products. \n",
      "\n",
      "8. Offer cross-selling and upsells: Implement cross-selling and upsells strategies to increase revenue from existing customers. \n",
      "\n",
      "9. Scale gradually: As your business grows, reinvest profits into your store, buy inventory in bulk, and partner with more suppliers. \n",
      "\n",
      "10. Stay committed: Consistency and perseverance are key for success in dropshipping business. Stay committed, track your progress, and adapt as needed.\n"
     ]
    }
   ],
   "source": [
    "reply_content = completion.choices[0].message.content\n",
    "print(reply_content)"
   ]
  },
  {
   "cell_type": "code",
   "execution_count": 17,
   "id": "a49b2d37",
   "metadata": {},
   "outputs": [
    {
     "name": "stdout",
     "output_type": "stream",
     "text": [
      "> how to start your dropshipping business without money??\n",
      "User's input was:  how to start your dropshipping business without money??\n"
     ]
    }
   ],
   "source": [
    "message_history = []\n",
    "# What is the moon's circumference in km?\n",
    "user_input = input(\"> \")\n",
    "print(\"User's input was: \", user_input)"
   ]
  },
  {
   "cell_type": "code",
   "execution_count": 18,
   "id": "9b32d0e3",
   "metadata": {},
   "outputs": [],
   "source": [
    "message_history.append({\"role\": \"user\", \"content\": f\"{user_input}\"})\n"
   ]
  },
  {
   "cell_type": "code",
   "execution_count": 19,
   "id": "e1d766ee",
   "metadata": {},
   "outputs": [
    {
     "name": "stdout",
     "output_type": "stream",
     "text": [
      "\n",
      "\n",
      "As an AI language model, I don't encourage or suggest any illegal, unethical or mischievous activity. But here are some tips for starting a dropshipping business with little to no money:\n",
      "\n",
      "1. Choose a profitable niche with low competition: Research and select a niche that has a high demand but is underserved. This way, you can charge high prices and make quick sales.\n",
      "\n",
      "2. Use a free eCommerce platform: There are many free eCommerce platforms like Shopify, WooCommerce, etc. that allow you to create an online store without any initial investment.\n",
      "\n",
      "3. Select reliable suppliers: Work with reliable suppliers who offer dropshipping services. You can find them on popular marketplaces like AliExpress, eBay, etc.\n",
      "\n",
      "4. Market your products using free social media platforms: Use social media platforms like Facebook, Instagram, Twitter, etc. to market your products for free. Create engaging content and post frequently to attract potential customers.\n",
      "\n",
      "5. Optimize your website for SEO: Learn about SEO and optimize your website for search engines to attract organic traffic.\n",
      "\n",
      "6. Leverage your network: Reach out to family and friends who might be interested in your products and ask them to spread the word.\n",
      "\n",
      "7. Reinvest your profits: Once you start making sales, reinvest your profits to scale your business and improve your marketing strategy.\n",
      "\n",
      "Remember, starting a business without investment requires hard work, dedication, and patience. But with the right strategy and effort, you can build a successful dropshipping business.\n"
     ]
    }
   ],
   "source": [
    "completion = openai.ChatCompletion.create(\n",
    "  model=\"gpt-3.5-turbo\",\n",
    "  messages=message_history\n",
    ")\n",
    "\n",
    "# Now we can print the response:\n",
    "reply_content = completion.choices[0].message.content\n",
    "print(reply_content)"
   ]
  },
  {
   "cell_type": "code",
   "execution_count": 20,
   "id": "9a1364f4",
   "metadata": {},
   "outputs": [],
   "source": [
    "message_history.append({\"role\": \"assistant\", \"content\": f\"{reply_content}\"})"
   ]
  },
  {
   "cell_type": "code",
   "execution_count": 21,
   "id": "384b0dfb",
   "metadata": {},
   "outputs": [
    {
     "name": "stdout",
     "output_type": "stream",
     "text": [
      "> how to start your dropshipping business without money??\n",
      "User's input was:  how to start your dropshipping business without money??\n",
      "\n",
      "As an AI Language model, I don't encourage or suggest any illegal, unethical or mischievous activity. Here are some tips for starting a dropshipping business with little to no money:\n",
      "\n",
      "1. Research your market: Start by researching the market and finding a niche with high demand and low competition. Look for products you can sell at a reasonable price and still make a profit.\n",
      "\n",
      "2. Sign up with a dropshipping platform: Sign up on a dropshipping platform like Oberlo or Spocket. These platforms are free to use and allow you to sell products without holding any inventory.\n",
      "\n",
      "3. Create a free website: Choose a free website builder like Wix or Weebly and create a website that showcases your products.\n",
      "\n",
      "4. Market your products: Use social media platforms like Facebook or Instagram to market your products for free. Reach out to family and friends who might be interested in your products and ask them to spread the word.\n",
      "\n",
      "5. Price your products right: Price your products competitively and ensure that your margins are enough to cover your expenses.\n",
      "\n",
      "6. Learn how to optimize your website for search engines: Learn about basic SEO strategies and apply them to your website to attract organic traffic.\n",
      "\n",
      "7. Test, Refine, Repeat: Analyze your results and improve your business strategies by testing and refining various elements of your website and marketing strategies.\n",
      "\n",
      "Starting a business without investment requires effort, hard work, and dedication. With the right approach, you can create a successful dropshipping business without any initial investment.\n"
     ]
    }
   ],
   "source": [
    "\n",
    "user_input = input(\"> \")\n",
    "print(\"User's input was: \", user_input)\n",
    "print()\n",
    "message_history.append({\"role\": \"user\", \"content\": f\"{user_input}\"})\n",
    "\n",
    "completion = openai.ChatCompletion.create(\n",
    "    model=\"gpt-3.5-turbo\",\n",
    "    messages=message_history\n",
    ")\n",
    "\n",
    "reply_content = completion.choices[0].message.content\n",
    "print(reply_content)\n"
   ]
  },
  {
   "cell_type": "code",
   "execution_count": 22,
   "id": "41be6242",
   "metadata": {},
   "outputs": [
    {
     "name": "stdout",
     "output_type": "stream",
     "text": [
      "> how to start your dropshipping business without money??\n",
      "User's input was:  how to start your dropshipping business without money??\n",
      "\n",
      "\n",
      "As an AI language model, I do not have personal experiences or opinions. But I can provide you some ideas on how you can start a dropshipping business without money. Here they are:\n",
      "\n",
      "1. Zero-Investment Platforms: You can start your dropshipping business by creating an account on platforms like eBay or Amazon. These platforms provide you with the opportunity to sell their products to customers without any investment.\n",
      "\n",
      "2. Social Media Marketing: You can start your dropshipping business by promoting products on your social media profiles without any financial investment. You can reach out to your friends and family, and ask them to promote your products to their network.\n",
      "\n",
      "3. Influencers: Collaborate with social media influencers who have the same target audience as your niche. Influencers can help advertise your products to their followers, and you can get your dropshipping business started.\n",
      "\n",
      "4. Consignment: Try partnering with brick and mortar stores that are willing to sell your dropshipping products in exchange for commission or a percentage of the sales.\n",
      "\n",
      "5. Dropshipping Software: You can create a dropshipping store online with software like Shopify or WooCommerce which offers free trials. With zero investment, these online platforms provide all the necessary tools you need to launch an e-commerce store.\n",
      "\n",
      "Although these are good ideas to start a dropshipping business without any money, it's important to note that a dropshipping business requires a lot of hard work, dedication, and time. Make sure you have the necessary skill sets and knowledge before you start.\n",
      "\n",
      "> Can you please introduce me to the first 10 steps to take?\n",
      "User's input was:  Can you please introduce me to the first 10 steps to take?\n",
      "Sure, here are the first 10 steps to take when starting a dropshipping business:\n",
      "\n",
      "1. Choose A Niche: Determine what products you want to sell based on your interests or potential demand.\n",
      "\n",
      "2. Research Suppliers: Find reliable dropshipping suppliers who provide quality products at wholesale prices.\n",
      "\n",
      "3. Establish Business Entity: Register your business as a legal entity to streamline financial transactions and avoid legal issues.\n",
      "\n",
      "4. Design Your Store: Establish an e-commerce website that reflects your brand image and appeals to customers.\n",
      "\n",
      "5. Select A Marketplace: Choose an online marketplace (like Amazon or eBay) or a standalone website (like Shopify) to host your e-commerce store.\n",
      "\n",
      "6. Develop Seller Policy: Create policies that outline the details of your services such as shipping, returns, and customer service.\n",
      "\n",
      "7. Set Up Payment System: Determine which payment methods you will accept and set up an account with a payment gateway.\n",
      "\n",
      "8. Analyze Competitors: Research your competitors to gain insights into their pricing strategies, marketing tactics, and strengths.\n",
      "\n",
      "9. Develop Marketing Plan: Create a marketing plan to reach your target audience using social media, email campaigns, ads, and other methods.\n",
      "\n",
      "10. Launch Your Store: Launch your e-commerce store and start selling your products.\n",
      "\n",
      "These are just the first 10 steps you should take when starting a dropshipping business. As you grow, you should continue to develop new strategies and improve your business operations to increase sales and profitability.\n",
      "\n"
     ]
    }
   ],
   "source": [
    "message_history = []\n",
    "\n",
    "def chat(inp, role=\"user\"):\n",
    "    message_history.append({\"role\": role, \"content\": f\"{inp}\"})\n",
    "    completion = openai.ChatCompletion.create(\n",
    "        model=\"gpt-3.5-turbo\",\n",
    "        messages=message_history\n",
    "    )\n",
    "    reply_content = completion.choices[0].message.content\n",
    "    message_history.append({\"role\": \"assistant\", \"content\": f\"{reply_content}\"})\n",
    "    return reply_content\n",
    "\n",
    "for i in range(2):\n",
    "    user_input = input(\"> \")\n",
    "    print(\"User's input was: \", user_input)\n",
    "    print(chat(user_input))\n",
    "    print()"
   ]
  },
  {
   "cell_type": "code",
   "execution_count": 26,
   "id": "559dcf19",
   "metadata": {},
   "outputs": [
    {
     "name": "stdout",
     "output_type": "stream",
     "text": [
      "Running on local URL:  http://127.0.0.1:7863\n",
      "Running on public URL: https://d191a10ce22686fc.gradio.app\n",
      "\n",
      "This share link expires in 72 hours. For free permanent hosting and GPU upgrades (NEW!), check out Spaces: https://huggingface.co/spaces\n"
     ]
    },
    {
     "data": {
      "text/html": [
       "<div><iframe src=\"https://d191a10ce22686fc.gradio.app\" width=\"900\" height=\"500\" allow=\"autoplay; camera; microphone; clipboard-read; clipboard-write;\" frameborder=\"0\" allowfullscreen></iframe></div>"
      ],
      "text/plain": [
       "<IPython.core.display.HTML object>"
      ]
     },
     "metadata": {},
     "output_type": "display_data"
    },
    {
     "data": {
      "text/plain": [
       "(<gradio.routes.App at 0x214bbee4910>,\n",
       " 'http://127.0.0.1:7863/',\n",
       " 'https://d191a10ce22686fc.gradio.app')"
      ]
     },
     "execution_count": 26,
     "metadata": {},
     "output_type": "execute_result"
    },
    {
     "name": "stdout",
     "output_type": "stream",
     "text": [
      "One of the best strategies for dropshipping is to find a niche market with high demand and low competition. This allows you to position yourself as a specialist in a particular area and stand out to customers. Additionally, it's important to do thorough research on your suppliers and their products to ensure quality, reliability, and timely delivery. Another effective approach is to use social media and influencer marketing to promote your products and organic search engine optimization (SEO) to drive traffic to your website.\n"
     ]
    }
   ],
   "source": [
    "import gradio as gr\n",
    "import openai\n",
    "\n",
    "openai.api_key = open(\"key.txt\", \"r\").read().strip(\"\\n\")\n",
    "\n",
    "message_history = [{\"role\": \"user\", \"content\": f\"You are a business advisor bot. I will specify the subject matter in my messages, and you will reply with a business advise that includes the subjects I mention in my messages. Reply only with business advises to further input. If you understand, say OK.\"},\n",
    "                   {\"role\": \"assistant\", \"content\": f\"OK\"}]\n",
    "\n",
    "def predict(input):\n",
    "    # tokenize the new input sentence\n",
    "    message_history.append({\"role\": \"user\", \"content\": f\"{input}\"})\n",
    "\n",
    "    completion = openai.ChatCompletion.create(\n",
    "      model=\"gpt-3.5-turbo\", #10x cheaper than davinci, and better. $0.002 per 1k tokens\n",
    "      messages=message_history\n",
    "    )\n",
    "    #Just the reply:\n",
    "    reply_content = completion.choices[0].message.content#.replace('```python', '<pre>').replace('```', '</pre>')\n",
    "\n",
    "    print(reply_content)\n",
    "    message_history.append({\"role\": \"assistant\", \"content\": f\"{reply_content}\"}) \n",
    "    \n",
    "    # get pairs of msg[\"content\"] from message history, skipping the pre-prompt:              here.\n",
    "    response = [(message_history[i][\"content\"], message_history[i+1][\"content\"]) for i in range(2, len(message_history)-1, 2)]  # convert to tuples of list\n",
    "    return response\n",
    "\n",
    "# creates a new Blocks app and assigns it to the variable demo.\n",
    "with gr.Blocks() as demo: \n",
    "\n",
    "    # creates a new Chatbot instance and assigns it to the variable chatbot.\n",
    "    chatbot = gr.Chatbot() \n",
    "\n",
    "    # creates a new Row component, which is a container for other components.\n",
    "    with gr.Row(): \n",
    "        '''creates a new Textbox component, which is used to collect user input. \n",
    "        The show_label parameter is set to False to hide the label, \n",
    "        and the placeholder parameter is set'''\n",
    "        txt = gr.Textbox(show_label=False, placeholder=\"Enter text and press enter\").style(container=False)\n",
    "    '''\n",
    "    sets the submit action of the Textbox to the predict function, \n",
    "    which takes the input from the Textbox, the chatbot instance, \n",
    "    and the state instance as arguments. \n",
    "    This function processes the input and generates a response from the chatbot, \n",
    "    which is displayed in the output area.'''\n",
    "    txt.submit(predict, txt, chatbot) # submit(function, input, output)\n",
    "    #txt.submit(lambda :\"\", None, txt)  #Sets submit action to lambda function that returns empty string \n",
    "\n",
    "    '''\n",
    "    sets the submit action of the Textbox to a JavaScript function that returns an empty string. \n",
    "    This line is equivalent to the commented out line above, but uses a different implementation. \n",
    "    The _js parameter is used to pass a JavaScript function to the submit method.'''\n",
    "    txt.submit(None, None, txt, _js=\"() => {''}\") # No function, no input to that function, submit action to textbox is a js function that returns empty string, so it clears immediately.\n",
    "         \n",
    "demo.launch(share=True)"
   ]
  },
  {
   "cell_type": "code",
   "execution_count": null,
   "id": "669031ce",
   "metadata": {},
   "outputs": [],
   "source": []
  }
 ],
 "metadata": {
  "kernelspec": {
   "display_name": "Python 3 (ipykernel)",
   "language": "python",
   "name": "python3"
  },
  "language_info": {
   "codemirror_mode": {
    "name": "ipython",
    "version": 3
   },
   "file_extension": ".py",
   "mimetype": "text/x-python",
   "name": "python",
   "nbconvert_exporter": "python",
   "pygments_lexer": "ipython3",
   "version": "3.9.12"
  }
 },
 "nbformat": 4,
 "nbformat_minor": 5
}
